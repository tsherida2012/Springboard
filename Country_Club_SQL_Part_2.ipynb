{
 "cells": [
  {
   "cell_type": "code",
   "execution_count": 78,
   "id": "853d83d6",
   "metadata": {},
   "outputs": [],
   "source": [
    "import sqlite3"
   ]
  },
  {
   "cell_type": "code",
   "execution_count": 79,
   "id": "3a315209",
   "metadata": {},
   "outputs": [],
   "source": [
    "conn = sqlite3.connect('Country-Club3.db')"
   ]
  },
  {
   "cell_type": "code",
   "execution_count": 80,
   "id": "fee7b9d0",
   "metadata": {},
   "outputs": [
    {
     "data": {
      "text/plain": [
       "\"Q10: Produce a list of facilities with a total revenue less than 1000.\\nThe output of facility name and total revenue, sorted by revenue. Remember\\nthat there's a different cost for guests and members! \""
      ]
     },
     "execution_count": 80,
     "metadata": {},
     "output_type": "execute_result"
    }
   ],
   "source": [
    "'''Q10: Produce a list of facilities with a total revenue less than 1000.\n",
    "The output of facility name and total revenue, sorted by revenue. Remember\n",
    "that there's a different cost for guests and members! '''"
   ]
  },
  {
   "cell_type": "code",
   "execution_count": 81,
   "id": "7fa8fdc5",
   "metadata": {},
   "outputs": [],
   "source": [
    "Revenue_Report = '''SELECT \n",
    "    F.name AS facility_name, \n",
    "    SUM(B.slots * CASE WHEN B.memid = 0 THEN F.guestcost ELSE F.membercost END) AS total_revenue\n",
    "FROM \n",
    "    Bookings B\n",
    "JOIN \n",
    "    Facilities F ON B.facid = F.facid\n",
    "GROUP BY \n",
    "    F.name\n",
    "HAVING \n",
    "    SUM(B.slots * CASE WHEN B.memid = 0 THEN F.guestcost ELSE F.membercost END) < 1000\n",
    "ORDER BY \n",
    "    total_revenue;'''"
   ]
  },
  {
   "cell_type": "code",
   "execution_count": 82,
   "id": "1eaeea5f",
   "metadata": {},
   "outputs": [
    {
     "data": {
      "text/plain": [
       "<sqlite3.Cursor at 0x1aa4331b640>"
      ]
     },
     "execution_count": 82,
     "metadata": {},
     "output_type": "execute_result"
    }
   ],
   "source": [
    "cursor = conn.cursor()\n",
    "cursor.execute(Revenue_Report)"
   ]
  },
  {
   "cell_type": "code",
   "execution_count": 83,
   "id": "20b4be48",
   "metadata": {},
   "outputs": [
    {
     "name": "stdout",
     "output_type": "stream",
     "text": [
      "('Table Tennis', 180)\n",
      "('Snooker Table', 240)\n",
      "('Pool Table', 270)\n"
     ]
    }
   ],
   "source": [
    "results = cursor.fetchall()\n",
    "for row in results:\n",
    "    print(row)"
   ]
  },
  {
   "cell_type": "code",
   "execution_count": 84,
   "id": "03f61a92",
   "metadata": {},
   "outputs": [
    {
     "data": {
      "text/plain": [
       "' Q11: Produce a report of members and who recommended them in alphabetic surname,firstname order '"
      ]
     },
     "execution_count": 84,
     "metadata": {},
     "output_type": "execute_result"
    }
   ],
   "source": [
    "''' Q11: Produce a report of members and who recommended them in alphabetic surname,firstname order '''"
   ]
  },
  {
   "cell_type": "code",
   "execution_count": 85,
   "id": "b0428e64",
   "metadata": {},
   "outputs": [],
   "source": [
    "MemberReport = '''SELECT \n",
    "    m1.surname AS member_surname, \n",
    "    m1.firstname AS member_firstname, \n",
    "    m2.surname AS recommender_surname, \n",
    "    m2.firstname AS recommender_firstname\n",
    "FROM \n",
    "    Members m1\n",
    "LEFT JOIN \n",
    "    Members m2 ON m1.recommendedby = m2.memid\n",
    "ORDER BY \n",
    "    m1.surname, m1.firstname;'''"
   ]
  },
  {
   "cell_type": "code",
   "execution_count": 86,
   "id": "299fa885",
   "metadata": {},
   "outputs": [
    {
     "data": {
      "text/plain": [
       "<sqlite3.Cursor at 0x1aa433ca240>"
      ]
     },
     "execution_count": 86,
     "metadata": {},
     "output_type": "execute_result"
    }
   ],
   "source": [
    "cursor = conn.cursor()\n",
    "cursor.execute(MemberReport)"
   ]
  },
  {
   "cell_type": "code",
   "execution_count": 87,
   "id": "2eb287c3",
   "metadata": {},
   "outputs": [
    {
     "name": "stdout",
     "output_type": "stream",
     "text": [
      "('Bader', 'Florence', 'Stibbons', 'Ponder')\n",
      "('Baker', 'Anne', 'Stibbons', 'Ponder')\n",
      "('Baker', 'Timothy', 'Farrell', 'Jemima')\n",
      "('Boothe', 'Tim', 'Rownam', 'Tim')\n",
      "('Butters', 'Gerald', 'Smith', 'Darren')\n",
      "('Coplin', 'Joan', 'Baker', 'Timothy')\n",
      "('Crumpet', 'Erica', 'Smith', 'Tracy')\n",
      "('Dare', 'Nancy', 'Joplette', 'Janice')\n",
      "('Farrell', 'David', None, None)\n",
      "('Farrell', 'Jemima', None, None)\n",
      "('GUEST', 'GUEST', None, None)\n",
      "('Genting', 'Matthew', 'Butters', 'Gerald')\n",
      "('Hunt', 'John', 'Purview', 'Millicent')\n",
      "('Jones', 'David', 'Joplette', 'Janice')\n",
      "('Jones', 'Douglas', 'Jones', 'David')\n",
      "('Joplette', 'Janice', 'Smith', 'Darren')\n",
      "('Mackenzie', 'Anna', 'Smith', 'Darren')\n",
      "('Owen', 'Charles', 'Smith', 'Darren')\n",
      "('Pinker', 'David', 'Farrell', 'Jemima')\n",
      "('Purview', 'Millicent', 'Smith', 'Tracy')\n",
      "('Rownam', 'Tim', None, None)\n",
      "('Rumney', 'Henrietta', 'Genting', 'Matthew')\n",
      "('Sarwin', 'Ramnaresh', 'Bader', 'Florence')\n",
      "('Smith', 'Darren', None, None)\n",
      "('Smith', 'Darren', None, None)\n",
      "('Smith', 'Jack', 'Smith', 'Darren')\n",
      "('Smith', 'Tracy', None, None)\n",
      "('Stibbons', 'Ponder', 'Tracy', 'Burton')\n",
      "('Tracy', 'Burton', None, None)\n",
      "('Tupperware', 'Hyacinth', None, None)\n",
      "('Worthington-Smyth', 'Henry', 'Smith', 'Tracy')\n"
     ]
    }
   ],
   "source": [
    "results = cursor.fetchall()\n",
    "for row in results:\n",
    "    print(row)"
   ]
  },
  {
   "cell_type": "code",
   "execution_count": 88,
   "id": "b84b6ea8",
   "metadata": {},
   "outputs": [
    {
     "data": {
      "text/plain": [
       "' Q12: Find the facilities with their usage by member, but not guests '"
      ]
     },
     "execution_count": 88,
     "metadata": {},
     "output_type": "execute_result"
    }
   ],
   "source": [
    "''' Q12: Find the facilities with their usage by member, but not guests '''"
   ]
  },
  {
   "cell_type": "code",
   "execution_count": 89,
   "id": "a964639c",
   "metadata": {},
   "outputs": [],
   "source": [
    "MemberFacilityUsageReport = '''SELECT \n",
    "    F.name AS facility_name,\n",
    "    COUNT(B.bookid) AS member_usage_count\n",
    "FROM \n",
    "    Bookings B\n",
    "JOIN \n",
    "    Facilities F ON B.facid = F.facid\n",
    "WHERE \n",
    "    B.memid != 0  -- memid = 0 --if not a a guest\n",
    "GROUP BY \n",
    "    F.name\n",
    "ORDER BY \n",
    "    member_usage_count DESC;'''"
   ]
  },
  {
   "cell_type": "code",
   "execution_count": 91,
   "id": "81b1926a",
   "metadata": {},
   "outputs": [
    {
     "data": {
      "text/plain": [
       "<sqlite3.Cursor at 0x1aa433f8b40>"
      ]
     },
     "execution_count": 91,
     "metadata": {},
     "output_type": "execute_result"
    }
   ],
   "source": [
    "cursor = conn.cursor()\n",
    "cursor.execute(MemberFacilityUsageReport)"
   ]
  },
  {
   "cell_type": "code",
   "execution_count": 92,
   "id": "ce9c789a",
   "metadata": {},
   "outputs": [
    {
     "name": "stdout",
     "output_type": "stream",
     "text": [
      "('Pool Table', 783)\n",
      "('Snooker Table', 421)\n",
      "('Massage Room 1', 421)\n",
      "('Table Tennis', 385)\n",
      "('Badminton Court', 344)\n",
      "('Tennis Court 1', 308)\n",
      "('Tennis Court 2', 276)\n",
      "('Squash Court', 195)\n",
      "('Massage Room 2', 27)\n"
     ]
    }
   ],
   "source": [
    "results = cursor.fetchall()\n",
    "for row in results:\n",
    "    print(row)"
   ]
  },
  {
   "cell_type": "code",
   "execution_count": 93,
   "id": "f9c98275",
   "metadata": {},
   "outputs": [
    {
     "data": {
      "text/plain": [
       "'Q13: Find the facilities usage by month, but not guests'"
      ]
     },
     "execution_count": 93,
     "metadata": {},
     "output_type": "execute_result"
    }
   ],
   "source": [
    "'''Q13: Find the facilities usage by month, but not guests'''"
   ]
  },
  {
   "cell_type": "code",
   "execution_count": 95,
   "id": "95de8396",
   "metadata": {},
   "outputs": [],
   "source": [
    "MemberUsageReport = \"\"\"\n",
    "SELECT \n",
    "    F.name AS facility_name,\n",
    "    strftime('%m', B.starttime) AS month,\n",
    "    COUNT(*) AS usage_count\n",
    "FROM \n",
    "    Bookings B\n",
    "INNER JOIN \n",
    "    Facilities F ON B.facid = F.facid\n",
    "WHERE \n",
    "    B.memid != 0\n",
    "GROUP BY \n",
    "    F.name, strftime('%m', B.starttime)\n",
    "ORDER BY \n",
    "    F.name, month;\n",
    "\"\"\""
   ]
  },
  {
   "cell_type": "code",
   "execution_count": 96,
   "id": "56a3cffe",
   "metadata": {},
   "outputs": [
    {
     "data": {
      "text/plain": [
       "<sqlite3.Cursor at 0x1aa433f88c0>"
      ]
     },
     "execution_count": 96,
     "metadata": {},
     "output_type": "execute_result"
    }
   ],
   "source": [
    "cursor = conn.cursor()\n",
    "cursor.execute(MemberUsageReport)"
   ]
  },
  {
   "cell_type": "code",
   "execution_count": 97,
   "id": "6aa595df",
   "metadata": {},
   "outputs": [
    {
     "name": "stdout",
     "output_type": "stream",
     "text": [
      "('Badminton Court', '07', 51)\n",
      "('Badminton Court', '08', 132)\n",
      "('Badminton Court', '09', 161)\n",
      "('Massage Room 1', '07', 77)\n",
      "('Massage Room 1', '08', 153)\n",
      "('Massage Room 1', '09', 191)\n",
      "('Massage Room 2', '07', 4)\n",
      "('Massage Room 2', '08', 9)\n",
      "('Massage Room 2', '09', 14)\n",
      "('Pool Table', '07', 103)\n",
      "('Pool Table', '08', 272)\n",
      "('Pool Table', '09', 408)\n",
      "('Snooker Table', '07', 68)\n",
      "('Snooker Table', '08', 154)\n",
      "('Snooker Table', '09', 199)\n",
      "('Squash Court', '07', 23)\n",
      "('Squash Court', '08', 85)\n",
      "('Squash Court', '09', 87)\n",
      "('Table Tennis', '07', 48)\n",
      "('Table Tennis', '08', 143)\n",
      "('Table Tennis', '09', 194)\n",
      "('Tennis Court 1', '07', 65)\n",
      "('Tennis Court 1', '08', 111)\n",
      "('Tennis Court 1', '09', 132)\n",
      "('Tennis Court 2', '07', 41)\n",
      "('Tennis Court 2', '08', 109)\n",
      "('Tennis Court 2', '09', 126)\n"
     ]
    }
   ],
   "source": [
    "results = cursor.fetchall()\n",
    "for row in results:\n",
    "    print(row)"
   ]
  },
  {
   "cell_type": "code",
   "execution_count": null,
   "id": "af1928d0",
   "metadata": {},
   "outputs": [],
   "source": []
  },
  {
   "cell_type": "code",
   "execution_count": null,
   "id": "184833a3",
   "metadata": {},
   "outputs": [],
   "source": []
  }
 ],
 "metadata": {
  "kernelspec": {
   "display_name": "Python 3 (ipykernel)",
   "language": "python",
   "name": "python3"
  },
  "language_info": {
   "codemirror_mode": {
    "name": "ipython",
    "version": 3
   },
   "file_extension": ".py",
   "mimetype": "text/x-python",
   "name": "python",
   "nbconvert_exporter": "python",
   "pygments_lexer": "ipython3",
   "version": "3.11.4"
  }
 },
 "nbformat": 4,
 "nbformat_minor": 5
}
