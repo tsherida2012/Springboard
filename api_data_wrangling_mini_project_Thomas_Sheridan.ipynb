{
 "cells": [
  {
   "cell_type": "code",
   "execution_count": 2,
   "id": "e71cee76-371d-425f-b547-53c5f19a035a",
   "metadata": {},
   "outputs": [],
   "source": [
    "import dotenv\n",
    "import requests\n",
    "import os\n",
    "import json\n",
    "from dotenv import load_dotenv\n",
    "\n",
    "load_dotenv('API_KEY.env')\n",
    "API_KEY = os.getenv(\"API_KEY\")"
   ]
  },
  {
   "cell_type": "code",
   "execution_count": 7,
   "id": "5042e550-77fd-416a-9cbe-ebcf2c38424a",
   "metadata": {},
   "outputs": [],
   "source": [
    "#1\n",
    "url = 'https://data.nasdaq.com/api/v3/datasets/FSE/AFX_X/data.json'\n",
    "params = {\n",
    "    'start_date': '2017-01-01',\n",
    "    'end_date': '2017-12-31'\n",
    "}\n",
    "\n",
    "response = requests.get(url, params=params)\n",
    "if response.status_code == 200:\n",
    "    # Process the data\n",
    "    data = response.json()# json to python dictionary #2\n",
    "else:\n",
    "    print(\"Couldn't retrieve data:\", response.status_code)"
   ]
  },
  {
   "cell_type": "code",
   "execution_count": 8,
   "id": "93aeb32d-9427-493e-99d0-8e58924ee0d2",
   "metadata": {},
   "outputs": [
    {
     "name": "stdout",
     "output_type": "stream",
     "text": [
      "['2017-12-29', 51.76, 51.94, 51.45, 51.76, None, 34640.0, 1792304.0, None, None, None]\n"
     ]
    }
   ],
   "source": [
    "print(data['dataset_data']['data'][0])#sample of a day"
   ]
  },
  {
   "cell_type": "code",
   "execution_count": 9,
   "id": "c65fa280-cc8d-4d14-ac66-a76a32382708",
   "metadata": {},
   "outputs": [
    {
     "name": "stdout",
     "output_type": "stream",
     "text": [
      "highest open was 53.11 and lowest open was 34.0 \n"
     ]
    }
   ],
   "source": [
    "# List comp to get opening prices\n",
    "opening_prices = [row[1] for row in data['dataset_data']['data'] if row[1] != None and row[1] is not None]\n",
    "highest_opening = max(opening_prices)\n",
    "lowest_opening = min(opening_prices)\n",
    "\n",
    "print(f'highest open was {highest_opening} and lowest open was {lowest_opening} ')"
   ]
  },
  {
   "cell_type": "code",
   "execution_count": 10,
   "id": "ef2076b3-83de-4b04-8e2c-075392d244be",
   "metadata": {},
   "outputs": [
    {
     "name": "stdout",
     "output_type": "stream",
     "text": [
      "Largest change in one day was 2.81\n"
     ]
    }
   ],
   "source": [
    "#4\n",
    "high_low_prices = [(row[2], row[3]) for row in data['dataset_data']['data'] if row[2] is not None and row[3] is not None]\n",
    "\n",
    "# Calculate daily changes\n",
    "daily_changes = [high - low for high, low in high_low_prices]\n",
    "\n",
    "# Get the largest change\n",
    "largest_change = max(daily_changes)\n",
    "print(f'Largest change in one day was {largest_change:.2f}')"
   ]
  },
  {
   "cell_type": "code",
   "execution_count": 11,
   "id": "2b3c3567-1f62-42d8-a645-25cec15bfdd2",
   "metadata": {},
   "outputs": [
    {
     "name": "stdout",
     "output_type": "stream",
     "text": [
      "The largest change between any two days was 2.56\n"
     ]
    }
   ],
   "source": [
    "# Get the Closing Prices from the data\n",
    "closing_prices = [row[4] for row in data['dataset_data']['data'] if row[4] is not None]\n",
    "\n",
    "# Calculate the change between pair of days\n",
    "changes_between_days = [abs(closing_prices[i] - closing_prices[i-1]) for i in range(1, len(closing_prices))]\n",
    "\n",
    "# Get largest change\n",
    "largest_change_between_days = max(changes_between_days)\n",
    "print(f'The largest change between any two days was {largest_change_between_days:.2f}')"
   ]
  },
  {
   "cell_type": "code",
   "execution_count": 12,
   "id": "9615d9aa-589f-4767-abfa-20fbc1406e2c",
   "metadata": {},
   "outputs": [
    {
     "name": "stdout",
     "output_type": "stream",
     "text": [
      " The average volume of trade was 89124.34\n"
     ]
    }
   ],
   "source": [
    "trading_volumes = [row[6] for row in data['dataset_data']['data'] if row[6] is not None]\n",
    "\n",
    "# Get average volume.\n",
    "average_trading_volume = sum(trading_volumes) / len(trading_volumes) if trading_volumes else None\n",
    "print(f' The average volume of trade was {average_trading_volume:.2f}')\n"
   ]
  },
  {
   "cell_type": "code",
   "execution_count": 13,
   "id": "c89228e8-e835-4e78-95b3-1dd4086cd1ab",
   "metadata": {},
   "outputs": [
    {
     "name": "stdout",
     "output_type": "stream",
     "text": [
      "The median trading volume was 76286.0\n"
     ]
    }
   ],
   "source": [
    "# Sort the volumes\n",
    "sorted_volumes = sorted(trading_volumes)\n",
    "\n",
    "# Calculate the median\n",
    "n = len(sorted_volumes)\n",
    "if n % 2 == 1:\n",
    "    # Odd get middle value\n",
    "    median_trading_volume = sorted_volumes[n // 2]\n",
    "else:\n",
    "    # If even get average of middle 2\n",
    "    median_trading_volume = (sorted_volumes[n // 2 - 1] + sorted_volumes[n // 2]) / 2\n",
    "print(f'The median trading volume was {median_trading_volume}')"
   ]
  },
  {
   "cell_type": "code",
   "execution_count": null,
   "id": "cd1f4bec-d178-427a-a80d-db1d70867098",
   "metadata": {},
   "outputs": [],
   "source": []
  },
  {
   "cell_type": "code",
   "execution_count": null,
   "id": "2c52e8c3-c753-4a4c-a06e-219c265aa4f8",
   "metadata": {},
   "outputs": [],
   "source": []
  }
 ],
 "metadata": {
  "kernelspec": {
   "display_name": "Python 3 (ipykernel)",
   "language": "python",
   "name": "python3"
  },
  "language_info": {
   "codemirror_mode": {
    "name": "ipython",
    "version": 3
   },
   "file_extension": ".py",
   "mimetype": "text/x-python",
   "name": "python",
   "nbconvert_exporter": "python",
   "pygments_lexer": "ipython3",
   "version": "3.11.5"
  }
 },
 "nbformat": 4,
 "nbformat_minor": 5
}
